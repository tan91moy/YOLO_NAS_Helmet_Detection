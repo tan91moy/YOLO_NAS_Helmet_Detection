{
 "cells": [
  {
   "cell_type": "code",
   "execution_count": 2,
   "id": "59909ec4-3076-4218-aad0-e0f23d5589b2",
   "metadata": {},
   "outputs": [
    {
     "name": "stdout",
     "output_type": "stream",
     "text": [
      "Done! Dataset split into Train/Val/Test.\n"
     ]
    }
   ],
   "source": [
    "import os\n",
    "import random\n",
    "import shutil\n",
    "from pathlib import Path\n",
    "\n",
    "\n",
    "# 1. Configure paths & ratios\n",
    "src_images_dir = Path(r\"D:\\GRE College Selection\\RWTH Aachen_Robotics\\Object Detection Project\\Dataset\\images\")\n",
    "src_labels_dir = Path(r\"D:\\GRE College Selection\\RWTH Aachen_Robotics\\Object Detection Project\\Dataset\\labels\")\n",
    "dst_base = Path(r\"D:\\GRE College Selection\\RWTH Aachen_Robotics\\Object Detection Project\\Dataset\")\n",
    "ratios = {\n",
    "    \"train\": 0.8,\n",
    "    \"val\":   0.1,\n",
    "    \"test\":  0.1\n",
    "}\n",
    "\n",
    "# 2. Create destination folders\n",
    "for split in ratios:\n",
    "    (dst_base / \"images\" / split).mkdir(parents=True, exist_ok=True)\n",
    "    (dst_base / \"labels\" / split).mkdir(parents=True, exist_ok=True)\n",
    "\n",
    "# 3. Gather all image files (assumes .jpg; add other extensions if needed)\n",
    "all_images = list(src_images_dir.glob(\"*.jpg\"))\n",
    "random.shuffle(all_images)\n",
    "\n",
    "# 4. Compute split indices\n",
    "n_total = len(all_images)\n",
    "n_train = int(ratios[\"train\"] * n_total)\n",
    "n_val   = int(ratios[\"val\"]   * n_total)\n",
    "# n_test will be the remainder\n",
    "splits = {\n",
    "    \"train\": all_images[:n_train],\n",
    "    \"val\":   all_images[n_train:n_train + n_val],\n",
    "    \"test\":  all_images[n_train + n_val:]\n",
    "}\n",
    "\n",
    "# 5. Move or copy files\n",
    "for split, files in splits.items():\n",
    "    for img_path in files:\n",
    "        lbl_path = src_labels_dir / f\"{img_path.stem}.txt\"\n",
    "        # Copy image\n",
    "        shutil.copy(img_path, dst_base / \"images\" / split / img_path.name)\n",
    "        # Copy corresponding label (skip if missing)\n",
    "        if lbl_path.exists():\n",
    "            shutil.copy(lbl_path, dst_base / \"labels\" / split / lbl_path.name)\n",
    "        else:\n",
    "            print(f\"Warning: label not found for {img_path.name}\")\n",
    "\n",
    "print(\"Done! Dataset split into Train/Val/Test.\")"
   ]
  },
  {
   "cell_type": "code",
   "execution_count": null,
   "id": "a2c3a0f7-9a5c-42d8-bb0c-7bbff547c7af",
   "metadata": {},
   "outputs": [],
   "source": []
  }
 ],
 "metadata": {
  "kernelspec": {
   "display_name": "Python 3 (ipykernel)",
   "language": "python",
   "name": "python3"
  },
  "language_info": {
   "codemirror_mode": {
    "name": "ipython",
    "version": 3
   },
   "file_extension": ".py",
   "mimetype": "text/x-python",
   "name": "python",
   "nbconvert_exporter": "python",
   "pygments_lexer": "ipython3",
   "version": "3.10.0"
  }
 },
 "nbformat": 4,
 "nbformat_minor": 5
}
